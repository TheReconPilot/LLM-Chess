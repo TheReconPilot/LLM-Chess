{
 "cells": [
  {
   "cell_type": "code",
   "execution_count": null,
   "id": "20a6e9bc-618d-408a-887b-2b84c000e78c",
   "metadata": {},
   "outputs": [],
   "source": [
    "import random\n",
    "from tqdm import tqdm\n",
    "from datasets import load_dataset, Dataset\n",
    "import chess\n",
    "from attack_threat_prompt import build_llm_prompt\n",
    "import os\n",
    "from dotenv import load_dotenv\n",
    "from datasets import load_dataset, Dataset"
   ]
  },
  {
   "cell_type": "code",
   "execution_count": null,
   "id": "3319b9ce-70a6-42d7-b928-138867541ead",
   "metadata": {},
   "outputs": [],
   "source": [
    "load_dotenv()\n",
    "\n",
    "from huggingface_hub import login\n",
    "\n",
    "login(os.environ['HF_TOKEN'])"
   ]
  },
  {
   "cell_type": "code",
   "execution_count": null,
   "id": "2daf13a8-cec5-4f89-8361-39b756f1c560",
   "metadata": {},
   "outputs": [],
   "source": [
    "# Configuration\n",
    "# Attack-Threat Map only works with White's perspective for now\n",
    "# So set move interval to 2\n",
    "HF_DATASET_NAME = \"austindavis/lichess-elite-uci\"\n",
    "OUTPUT_PATH = \"chess-attack-threat-dataset\"\n",
    "MAX_GAMES = 30000\n",
    "MOVE_INTERVAL = 2\n",
    "SKIP_FIRST_N_MOVES = 4\n",
    "\n",
    "\n",
    "def extract_prompt_move_pairs(uci_string):\n",
    "    board = chess.Board()\n",
    "    prompts = []\n",
    "    moves = uci_string.split()\n",
    "\n",
    "    for i, move_uci in enumerate(moves):\n",
    "        move = chess.Move.from_uci(move_uci)\n",
    "        if move not in board.legal_moves:\n",
    "            break\n",
    "        if i >= SKIP_FIRST_N_MOVES and (i - SKIP_FIRST_N_MOVES) % MOVE_INTERVAL == 0:\n",
    "            prompt = build_llm_prompt(board)\n",
    "            best_move_san = board.san(move)\n",
    "            prompts.append({\"prompt\": prompt, \"response\": f\"MOVE: {best_move_san}\"})\n",
    "        board.push(move)\n",
    "\n",
    "    return prompts\n",
    "\n",
    "# Load the dataset\n",
    "print(\"Loading from HuggingFace...\")\n",
    "ds = load_dataset(HF_DATASET_NAME, split=\"train\", streaming=False)\n",
    "ds = ds.select(range(MAX_GAMES)) \n",
    "\n",
    "# Process games\n",
    "print(\"Processing games...\")\n",
    "all_examples = []\n",
    "for row in tqdm(ds):\n",
    "    try:\n",
    "        examples = extract_prompt_move_pairs(row[\"text\"])\n",
    "        all_examples.extend(examples)\n",
    "    except Exception as e:\n",
    "        continue\n",
    "\n",
    "# Save to disk\n",
    "hf_dataset = Dataset.from_list(all_examples)\n",
    "hf_dataset.save_to_disk(OUTPUT_PATH)\n",
    "\n",
    "print(\"Done.\")\n"
   ]
  },
  {
   "cell_type": "code",
   "execution_count": null,
   "id": "2c06f05c-68bc-4272-aec0-2606a4bcbcdf",
   "metadata": {},
   "outputs": [],
   "source": [
    "hf_dataset"
   ]
  },
  {
   "cell_type": "code",
   "execution_count": null,
   "id": "91240462-3842-4507-bffa-7ba0c89b975c",
   "metadata": {},
   "outputs": [],
   "source": []
  }
 ],
 "metadata": {
  "kernelspec": {
   "display_name": "Python 3 (ipykernel)",
   "language": "python",
   "name": "python3"
  },
  "language_info": {
   "codemirror_mode": {
    "name": "ipython",
    "version": 3
   },
   "file_extension": ".py",
   "mimetype": "text/x-python",
   "name": "python",
   "nbconvert_exporter": "python",
   "pygments_lexer": "ipython3",
   "version": "3.12.9"
  }
 },
 "nbformat": 4,
 "nbformat_minor": 5
}
