{
 "cells": [
  {
   "cell_type": "code",
   "execution_count": null,
   "id": "20a6e9bc-618d-408a-887b-2b84c000e78c",
   "metadata": {},
   "outputs": [],
   "source": [
    "import os\n",
    "import chess\n",
    "import json\n",
    "import random\n",
    "from tqdm import tqdm\n",
    "from dotenv import load_dotenv\n",
    "from datasets import load_dataset, Dataset"
   ]
  },
  {
   "cell_type": "code",
   "execution_count": null,
   "id": "3319b9ce-70a6-42d7-b928-138867541ead",
   "metadata": {},
   "outputs": [],
   "source": [
    "load_dotenv()\n",
    "\n",
    "from huggingface_hub import login\n",
    "\n",
    "login(os.environ['HF_TOKEN'])"
   ]
  },
  {
   "cell_type": "code",
   "execution_count": null,
   "id": "2daf13a8-cec5-4f89-8361-39b756f1c560",
   "metadata": {},
   "outputs": [],
   "source": [
    "# Configs\n",
    "HF_DATASET_NAME = \"austindavis/lichess-elite-uci\"\n",
    "OUTPUT_PATH = \"chess-sft-dataset-large\"\n",
    "MAX_GAMES = 60000\n",
    "MOVE_INTERVAL = 1\n",
    "SKIP_FIRST_N_MOVES = 4\n",
    "\n",
    "PROMPT_TEMPLATES = [\n",
    "    \"Current chess position (FEN): {fen}\\nWhat is the best move in this position? Respond with just the move in standard algebraic notation.\",\n",
    "    \"Given this position (FEN): {fen}, what is the best move? Reply only with the move in algebraic notation.\",\n",
    "    \"Position: {fen}\\nBest move?\",\n",
    "    \"Here is a chess board (FEN): {fen}\\nYour move (SAN only):\",\n",
    "    \"Given the following board (in FEN): {fen}, suggest the best move (use SAN).\",\n",
    "    \"Current FEN: {fen}\\nReply with only the move in standard algebraic notation (SAN):\",\n",
    "]\n",
    "\n",
    "def extract_prompt_move_pairs(uci_string):\n",
    "    board = chess.Board()\n",
    "    prompts = []\n",
    "    moves = uci_string.split()\n",
    "\n",
    "    for i, move_uci in enumerate(moves):\n",
    "        move = chess.Move.from_uci(move_uci)\n",
    "        if move not in board.legal_moves:\n",
    "            break\n",
    "        if i >= SKIP_FIRST_N_MOVES and (i - SKIP_FIRST_N_MOVES) % MOVE_INTERVAL == 0:\n",
    "            prompt_template = random.choice(PROMPT_TEMPLATES)\n",
    "            prompt = prompt_template.format(fen=board.fen())\n",
    "            best_move_san = board.san(move)\n",
    "            prompts.append({\"prompt\": prompt, \"response\": best_move_san})\n",
    "            # prompts.append({\"prompt\": prompt})\n",
    "        board.push(move)\n",
    "\n",
    "    return prompts\n",
    "\n",
    "# Load the dataset\n",
    "print(\"Loading from HuggingFace...\")\n",
    "ds = load_dataset(HF_DATASET_NAME, split=\"train\", streaming=False)\n",
    "ds = ds.select(range(MAX_GAMES))\n",
    "\n",
    "# Process games\n",
    "print(\"Processing games...\")\n",
    "all_examples = []\n",
    "for row in tqdm(ds):\n",
    "    try:\n",
    "        examples = extract_prompt_move_pairs(row[\"text\"])\n",
    "        all_examples.extend(examples)\n",
    "    except Exception:\n",
    "        continue\n",
    "\n",
    "# Convert to HuggingFace Dataset directly\n",
    "hf_dataset = Dataset.from_list(all_examples)\n",
    "hf_dataset.save_to_disk(OUTPUT_PATH)\n",
    "\n",
    "print(\"Done.\")"
   ]
  },
  {
   "cell_type": "code",
   "execution_count": null,
   "id": "7135a6da-1b5e-4947-9c65-8543dac1be63",
   "metadata": {},
   "outputs": [],
   "source": [
    "# Check\n",
    "hf_dataset = Dataset.load_from_disk(OUTPUT_PATH)\n",
    "\n",
    "# Inspect the first few examples\n",
    "print(hf_dataset[:5])  # First 5 rows"
   ]
  },
  {
   "cell_type": "code",
   "execution_count": null,
   "id": "c404c2da-9a89-40b6-82d9-4ae9199ae82c",
   "metadata": {},
   "outputs": [],
   "source": [
    "hf_dataset"
   ]
  },
  {
   "cell_type": "code",
   "execution_count": null,
   "id": "0f8d43a6-df5c-4a03-a840-4321c38eabb8",
   "metadata": {},
   "outputs": [],
   "source": []
  }
 ],
 "metadata": {
  "kernelspec": {
   "display_name": "Python 3 (ipykernel)",
   "language": "python",
   "name": "python3"
  },
  "language_info": {
   "codemirror_mode": {
    "name": "ipython",
    "version": 3
   },
   "file_extension": ".py",
   "mimetype": "text/x-python",
   "name": "python",
   "nbconvert_exporter": "python",
   "pygments_lexer": "ipython3",
   "version": "3.12.9"
  }
 },
 "nbformat": 4,
 "nbformat_minor": 5
}
